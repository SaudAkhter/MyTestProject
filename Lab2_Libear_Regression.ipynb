{
  "nbformat": 4,
  "nbformat_minor": 0,
  "metadata": {
    "colab": {
      "provenance": [],
      "authorship_tag": "ABX9TyNIbd1Uk6zK4MR7SNvWaib8",
      "include_colab_link": true
    },
    "kernelspec": {
      "name": "python3",
      "display_name": "Python 3"
    },
    "language_info": {
      "name": "python"
    }
  },
  "cells": [
    {
      "cell_type": "markdown",
      "metadata": {
        "id": "view-in-github",
        "colab_type": "text"
      },
      "source": [
        "<a href=\"https://colab.research.google.com/github/SaudAkhter/MyTestProject/blob/main/Lab2_Libear_Regression.ipynb\" target=\"_parent\"><img src=\"https://colab.research.google.com/assets/colab-badge.svg\" alt=\"Open In Colab\"/></a>"
      ]
    },
    {
      "cell_type": "markdown",
      "source": [
        "# Exercise: Finding the Best k in kNN Regression\n",
        "The goal here is to find the value of k of the best performing model based on the test MSE."
      ],
      "metadata": {
        "id": "RyyTBFFA5kqM"
      }
    },
    {
      "cell_type": "code",
      "source": [],
      "metadata": {
        "id": "kdFT335P5pcJ"
      },
      "execution_count": null,
      "outputs": []
    }
  ]
}