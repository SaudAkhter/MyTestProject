{
  "nbformat": 4,
  "nbformat_minor": 0,
  "metadata": {
    "colab": {
      "provenance": [],
      "authorship_tag": "ABX9TyOIhqXzt14q+05qZ4naPzxM",
      "include_colab_link": true
    },
    "kernelspec": {
      "name": "python3",
      "display_name": "Python 3"
    },
    "language_info": {
      "name": "python"
    }
  },
  "cells": [
    {
      "cell_type": "markdown",
      "metadata": {
        "id": "view-in-github",
        "colab_type": "text"
      },
      "source": [
        "<a href=\"https://colab.research.google.com/github/SaudAkhter/MyTestProject/blob/main/Lab2_Libear_Regression.ipynb\" target=\"_parent\"><img src=\"https://colab.research.google.com/assets/colab-badge.svg\" alt=\"Open In Colab\"/></a>"
      ]
    },
    {
      "cell_type": "markdown",
      "source": [
        "# Exercise: Finding the Best k in kNN Regression\n",
        "The goal here is to find the value of k of the best performing model based on the test MSE."
      ],
      "metadata": {
        "id": "RyyTBFFA5kqM"
      }
    },
    {
      "cell_type": "code",
      "source": [
        "# Import necessary libraries\n",
        "import numpy as np\n",
        "import pandas as pd\n",
        "import matplotlib.pyplot as plt\n",
        "from sklearn.utils import shuffle\n",
        "from sklearn.metrics import r2_score\n",
        "from sklearn.metrics import mean_squared_error\n",
        "from sklearn.neighbors import KNeighborsRegressor\n",
        "from sklearn.model_selection import train_test_split\n",
        "%matplotlib inline\n"
      ],
      "metadata": {
        "id": "kdFT335P5pcJ"
      },
      "execution_count": null,
      "outputs": []
    },
    {
      "cell_type": "code",
      "source": [
        "# Read the file 'Advertising.csv' into a Pandas dataset\n",
        "# Read the data from the file \"Advertising.csv\"\n",
        "from google.colab import drive\n",
        "drive.mount('/content/gdrive')\n",
        "\n",
        "filename = 'gdrive/My Drive/Advertising.csv'\n",
        "df = pd.read_csv(filename)"
      ],
      "metadata": {
        "id": "xFWN9cOp71AQ"
      },
      "execution_count": null,
      "outputs": []
    },
    {
      "cell_type": "code",
      "source": [
        "# Take a quick look at the data\n",
        "df.head()"
      ],
      "metadata": {
        "id": "LP9obLMS8Kp4"
      },
      "execution_count": null,
      "outputs": []
    },
    {
      "cell_type": "code",
      "source": [
        "# Set the 'TV' column as predictor variable\n",
        "x = df[['TV']].values\n",
        "\n",
        "# Set the 'Sales' column as response variable\n",
        "y = df['Sales'].values\n",
        "\n",
        "### edTest(test_shape) ###\n",
        "# Split the dataset in training and testing with 60% training set and\n",
        "# 40% testing set\n",
        "x_train, x_test, y_train, y_test = train_test_split(x,y,train_size=0.6,random_state=66)\n",
        "\n"
      ],
      "metadata": {
        "id": "exzlQ1538Lg6"
      },
      "execution_count": null,
      "outputs": []
    },
    {
      "cell_type": "code",
      "source": [
        "### edTest(test_nums) ###\n",
        "# Choosing k range from 1 to 70\n",
        "k_value_min = 1\n",
        "k_value_max = 70\n",
        "\n",
        "# Create a list of integer k values between k_value_min and\n",
        "# k_value_max using linspace\n",
        "k_list = np.linspace(k_value_min,k_value_max,num=70,dtype=int)\n"
      ],
      "metadata": {
        "id": "KwOvaiji8a9m"
      },
      "execution_count": null,
      "outputs": []
    },
    {
      "cell_type": "markdown",
      "source": [
        "***Model Fit***"
      ],
      "metadata": {
        "id": "sEdOLa1B8fkq"
      }
    },
    {
      "cell_type": "code",
      "source": [
        "# Setup a grid for plotting the data and predictions\n",
        "fig, ax = plt.subplots(figsize=(10,6))\n",
        "\n",
        "# Create a dictionary to store the k value against MSE fit {k: MSE@k}\n",
        "knn_dict = []\n",
        "\n",
        "# Variable used for altering the linewidth of values kNN models\n",
        "j=0\n",
        "\n",
        "# Loop over all k values\n",
        "for k_value in k_list:\n",
        "\n",
        "    # Create a KNN Regression model for the current k\n",
        "    model = KNeighborsRegressor(n_neighbors=int(k_value))\n",
        "\n",
        "    # Fit the model on the train data\n",
        "    model.fit(x_train,y_train)\n",
        "\n",
        "    # Use the trained model to predict on the test data\n",
        "    y_pred = model.predict(x_test)\n",
        "\n",
        "    # Calculate the MSE of the test data predictions\n",
        "    MSE = mean_squared_error(y_test,y_pred)\n",
        "\n",
        "    # Store the MSE values of each k value in the dictionary\n",
        "    knn_dict.append(MSE)\n",
        "\n",
        "\n",
        "    # Helper code to plot the data and various kNN model predictions\n",
        "    colors = ['grey','r','b']\n",
        "    if k_value in [1,10,70]:\n",
        "        xvals = np.linspace(x.min(),x.max(),100).reshape(-1, 1)\n",
        "        ypreds = model.predict(xvals)\n",
        "        ax.plot(xvals, ypreds,'-',label = f'k = {int(k_value)}',linewidth=j+2,color = colors[j])\n",
        "        j+=1\n",
        "knn_dict = np.array(knn_dict)\n",
        "ax.legend(loc='lower right',fontsize=20)\n",
        "ax.plot(x_train, y_train,'x',label='test',color='k')\n",
        "ax.set_xlabel('TV budget in $1000',fontsize=20)\n",
        "ax.set_ylabel('Sales in $1000',fontsize=20)\n",
        "plt.tight_layout()\n"
      ],
      "metadata": {
        "id": "EqBnenNT8jBm"
      },
      "execution_count": null,
      "outputs": []
    },
    {
      "cell_type": "markdown",
      "source": [
        "***Graph Plot***"
      ],
      "metadata": {
        "id": "ibHAAdQc8uiN"
      }
    },
    {
      "cell_type": "code",
      "source": [
        "# Plot a graph which depicts the relation between the k values and MSE\n",
        "plt.figure(figsize=(8,6))\n",
        "plt.plot(k_list, knn_dict,'k.-',alpha=0.5,linewidth=2)\n",
        "\n",
        "# Set the title and axis labels\n",
        "plt.xlabel('k',fontsize=20)\n",
        "plt.ylabel('MSE',fontsize = 20)\n",
        "plt.title('Test $MSE$ values for different k values - KNN regression',fontsize=20)\n",
        "plt.tight_layout()\n"
      ],
      "metadata": {
        "id": "_E17hqpg8s-E"
      },
      "execution_count": null,
      "outputs": []
    },
    {
      "cell_type": "markdown",
      "source": [
        "***Find the best KNN Model***"
      ],
      "metadata": {
        "id": "M-lOF6Lo81K3"
      }
    },
    {
      "cell_type": "code",
      "source": [
        "### edTest(test_mse) ###\n",
        "\n",
        "# Find the lowest MSE among all the kNN models\n",
        "min_mse = np.min(knn_dict)\n",
        "\n",
        "# Find the index of the lowest MSE\n",
        "best_k_index = np.argmin(knn_dict)\n",
        "\n",
        "# Get the best k value\n",
        "best_k = k_list[best_k_index]\n",
        "\n",
        "print(f\"The best k value is {best_k} with a MSE of {min_mse}\")\n"
      ],
      "metadata": {
        "id": "OSNXuHxX84T3"
      },
      "execution_count": null,
      "outputs": []
    },
    {
      "cell_type": "code",
      "source": [
        "# Helper code to compute the R2_score of your best model\n",
        "model = KNeighborsRegressor(n_neighbors=best_k)\n",
        "model.fit(x_train,y_train)\n",
        "y_pred_test = model.predict(x_test)\n",
        "\n",
        "# Print the R2 score of the model\n",
        "print(f\"The R2 score for your model is {r2_score(y_test, y_pred_test)}\")\n"
      ],
      "metadata": {
        "id": "14wD78j69CuR"
      },
      "execution_count": null,
      "outputs": []
    }
  ]
}